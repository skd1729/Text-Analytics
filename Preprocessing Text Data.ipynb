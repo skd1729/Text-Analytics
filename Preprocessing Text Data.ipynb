{
 "cells": [
  {
   "cell_type": "markdown",
   "metadata": {},
   "source": [
    "# Text Analytics: Preprocessing & Word Distributions"
   ]
  },
  {
   "cell_type": "markdown",
   "metadata": {},
   "source": [
    "The below code helps the user in performing the text cleaning activities and gives a word count distribution plot. There are many ways to do the same tasks, but I have kept it simple and flexible. \n",
    "\n",
    "Pre-requisites: \n",
    "1. Using python 3.6 via Anaconda distribution\n",
    "2. If you haven't downloaded already, use the command nltk.download(\"stopwords\")\n",
    "\n",
    "Basic Approach:\n",
    "1. Read the text from a file\n",
    "2. Remove the spaces, new line characters and covert the text into lower case\n",
    "3. Split the text into tokens\n",
    "4. Remove the stopwords\n",
    "5. Count the words\n",
    "\n",
    "Important Note:\n",
    "\n",
    "In the above approach,stemming and lemmatization tasks are missing. These tasks are considered to be most common tasks in text analytics. In my line of work, my use cases require an exploratory analysis without those two tasks. In other repos, where I performed LDA analysis, you would see the code that performs stemming and lemmatization.\n"
   ]
  },
  {
   "cell_type": "code",
   "execution_count": null,
   "metadata": {},
   "outputs": [],
   "source": [
    "#nltk.download(\"stopwords\")"
   ]
  },
  {
   "cell_type": "code",
   "execution_count": 240,
   "metadata": {},
   "outputs": [],
   "source": [
    "%matplotlib inline\n",
    "import collections\n",
    "import string\n",
    "import nltk\n",
    "import matplotlib.pyplot as plt\n",
    "from nltk import WordNetLemmatizer"
   ]
  },
  {
   "cell_type": "markdown",
   "metadata": {},
   "source": [
    "The below code is reading the entire text document into a list. Since we are using with, \"with\" there is no need to close the file."
   ]
  },
  {
   "cell_type": "code",
   "execution_count": 241,
   "metadata": {},
   "outputs": [],
   "source": [
    "with open(\"C:/path/Gilmore.txt\") as t:\n",
    "    SampleText = t.readlines()"
   ]
  },
  {
   "cell_type": "code",
   "execution_count": 242,
   "metadata": {
    "collapsed": true
   },
   "outputs": [],
   "source": [
    "def pre_process(document):\n",
    "    document = [a.strip().rstrip().lower() for a in SampleText]\n",
    "    document= \"\".join(a for a in document)\n",
    "    document = \"\".join(a for a in document if a not in (\",\",\"-\",\"?\",\"!\",\":\",\".\"))\n",
    "    document = document.split(\" \")\n",
    "    document =[a for a in document if a not in stopwords.words(\"english\")]\n",
    "    c = collections.Counter(document)\n",
    "    return c"
   ]
  },
  {
   "cell_type": "markdown",
   "metadata": {},
   "source": [
    "The pre_process function takes the list in which the text file has been loaded and returns the word count in tuples.The above function performs all the tasks outlined in the basic approach in a step by step manner. The alternate ways to remove punctuation is to use \"maketrans\". The method that I followed is more flexible. Sometimes, I need the \"-\" separators depending on the use case that I run. Hence, followed the list approach. "
   ]
  },
  {
   "cell_type": "code",
   "execution_count": 243,
   "metadata": {
    "collapsed": true
   },
   "outputs": [],
   "source": [
    "V = pre_process(SampleText)"
   ]
  },
  {
   "cell_type": "code",
   "execution_count": 244,
   "metadata": {},
   "outputs": [],
   "source": [
    "C20 = V.most_common(20)"
   ]
  },
  {
   "cell_type": "code",
   "execution_count": 245,
   "metadata": {},
   "outputs": [
    {
     "name": "stdout",
     "output_type": "stream",
     "text": [
      "[('', 94), (\"i'm\", 36), (\"it's\", 34), ('rory', 30), (\"you're\", 27), ('school', 25), (\"don't\", 23), ('go', 22), ('one', 22), ('good', 21), ('know', 21), ('get', 21), ('like', 21), (\"that's\", 16), ('really', 16), ('got', 16), ('going', 15), ('lorelai', 15), ('see', 14), ('take', 14)]\n"
     ]
    }
   ],
   "source": [
    "print(C20)"
   ]
  },
  {
   "cell_type": "code",
   "execution_count": 246,
   "metadata": {},
   "outputs": [
    {
     "data": {
      "image/png": "[encoded data removed]",
      "text/plain": [
       "<matplotlib.figure.Figure at 0xd922bb7d68>"
      ]
     },
     "metadata": {},
     "output_type": "display_data"
    }
   ],
   "source": [
    "x_val = [x for x in range(len(C20))]\n",
    "y_val = [y[1] for y in C20]\n",
    "plt.plot(x_val,y_val)\n",
    "plt.plot(x_val,y_val,'or')\n",
    "plt.show()"
   ]
  },
  {
   "cell_type": "markdown",
   "metadata": {},
   "source": [
    "Note: If your graph does not show up, then most probably you are missing the line %matplotlib inline in your code. The axis and scaling can be fixed as per your needs. This graph is basically to check the word distributions and investigate any anomalies"
   ]
  }
 ],
 "metadata": {
  "kernelspec": {
   "display_name": "Python 3",
   "language": "python",
   "name": "python3"
  },
  "language_info": {
   "codemirror_mode": {
    "name": "ipython",
    "version": 3
   },
   "file_extension": ".py",
   "mimetype": "text/x-python",
   "name": "python",
   "nbconvert_exporter": "python",
   "pygments_lexer": "ipython3",
   "version": "3.6.1"
  }
 },
 "nbformat": 4,
 "nbformat_minor": 2
}
